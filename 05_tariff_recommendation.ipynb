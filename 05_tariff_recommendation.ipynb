{
 "cells": [
  {
   "cell_type": "markdown",
   "id": "6ba0f615",
   "metadata": {},
   "source": [
    "# Рекомендация тарифов"
   ]
  },
  {
   "cell_type": "markdown",
   "id": "44d58204",
   "metadata": {},
   "source": [
    "В вашем распоряжении данные о поведении клиентов, которые уже перешли на эти тарифы (из проекта курса «Статистический анализ данных»). Нужно построить модель для задачи классификации, которая выберет подходящий тариф. Предобработка данных не понадобится — вы её уже сделали.\n",
    "\n",
    "Постройте модель с максимально большим значением *accuracy*. Чтобы сдать проект успешно, нужно довести долю правильных ответов по крайней мере до 0.75. Проверьте *accuracy* на тестовой выборке самостоятельно."
   ]
  },
  {
   "cell_type": "markdown",
   "id": "9fa82b9d",
   "metadata": {},
   "source": [
    "## Откройте и изучите файл"
   ]
  },
  {
   "cell_type": "code",
   "execution_count": 1,
   "id": "fd98d5fa",
   "metadata": {},
   "outputs": [],
   "source": [
    "#импорт билиотек\n",
    "import random\n",
    "import numpy as np\n",
    "import seaborn as sns\n",
    "import matplotlib.pyplot as plt\n",
    "import pandas as pd\n",
    "\n",
    "pd.set_option('display.max_columns', None)\n",
    "pd.set_option('display.max_rows', None)\n",
    "\n",
    "from sklearn.tree import DecisionTreeClassifier\n",
    "from sklearn.ensemble import RandomForestClassifier\n",
    "from sklearn.linear_model import LogisticRegression\n",
    "from sklearn.model_selection import train_test_split\n",
    "from sklearn.metrics import accuracy_score\n",
    "\n",
    "RANDOM_STATE = 12345"
   ]
  },
  {
   "cell_type": "code",
   "execution_count": 2,
   "id": "fcb6c9aa",
   "metadata": {},
   "outputs": [],
   "source": [
    "#импорт данных\n",
    "try:\n",
    "    data = pd.read_csv('/datasets/users_behavior.csv')\n",
    "except:\n",
    "    data = pd.read_csv('C:\\\\datasets/users_behavior.csv')"
   ]
  },
  {
   "cell_type": "code",
   "execution_count": 3,
   "id": "b612a6f9",
   "metadata": {},
   "outputs": [
    {
     "data": {
      "text/html": [
       "<div>\n",
       "<style scoped>\n",
       "    .dataframe tbody tr th:only-of-type {\n",
       "        vertical-align: middle;\n",
       "    }\n",
       "\n",
       "    .dataframe tbody tr th {\n",
       "        vertical-align: top;\n",
       "    }\n",
       "\n",
       "    .dataframe thead th {\n",
       "        text-align: right;\n",
       "    }\n",
       "</style>\n",
       "<table border=\"1\" class=\"dataframe\">\n",
       "  <thead>\n",
       "    <tr style=\"text-align: right;\">\n",
       "      <th></th>\n",
       "      <th>calls</th>\n",
       "      <th>minutes</th>\n",
       "      <th>messages</th>\n",
       "      <th>mb_used</th>\n",
       "      <th>is_ultra</th>\n",
       "    </tr>\n",
       "  </thead>\n",
       "  <tbody>\n",
       "    <tr>\n",
       "      <th>0</th>\n",
       "      <td>40.0</td>\n",
       "      <td>311.90</td>\n",
       "      <td>83.0</td>\n",
       "      <td>19915.42</td>\n",
       "      <td>0</td>\n",
       "    </tr>\n",
       "    <tr>\n",
       "      <th>1</th>\n",
       "      <td>85.0</td>\n",
       "      <td>516.75</td>\n",
       "      <td>56.0</td>\n",
       "      <td>22696.96</td>\n",
       "      <td>0</td>\n",
       "    </tr>\n",
       "    <tr>\n",
       "      <th>2</th>\n",
       "      <td>77.0</td>\n",
       "      <td>467.66</td>\n",
       "      <td>86.0</td>\n",
       "      <td>21060.45</td>\n",
       "      <td>0</td>\n",
       "    </tr>\n",
       "    <tr>\n",
       "      <th>3</th>\n",
       "      <td>106.0</td>\n",
       "      <td>745.53</td>\n",
       "      <td>81.0</td>\n",
       "      <td>8437.39</td>\n",
       "      <td>1</td>\n",
       "    </tr>\n",
       "    <tr>\n",
       "      <th>4</th>\n",
       "      <td>66.0</td>\n",
       "      <td>418.74</td>\n",
       "      <td>1.0</td>\n",
       "      <td>14502.75</td>\n",
       "      <td>0</td>\n",
       "    </tr>\n",
       "  </tbody>\n",
       "</table>\n",
       "</div>"
      ],
      "text/plain": [
       "   calls  minutes  messages   mb_used  is_ultra\n",
       "0   40.0   311.90      83.0  19915.42         0\n",
       "1   85.0   516.75      56.0  22696.96         0\n",
       "2   77.0   467.66      86.0  21060.45         0\n",
       "3  106.0   745.53      81.0   8437.39         1\n",
       "4   66.0   418.74       1.0  14502.75         0"
      ]
     },
     "execution_count": 3,
     "metadata": {},
     "output_type": "execute_result"
    }
   ],
   "source": [
    "#выводим первые 5 строк датафрейма\n",
    "data.head()"
   ]
  },
  {
   "cell_type": "code",
   "execution_count": 4,
   "id": "5451c127",
   "metadata": {
    "scrolled": true
   },
   "outputs": [
    {
     "name": "stdout",
     "output_type": "stream",
     "text": [
      "<class 'pandas.core.frame.DataFrame'>\n",
      "RangeIndex: 3214 entries, 0 to 3213\n",
      "Data columns (total 5 columns):\n",
      " #   Column    Non-Null Count  Dtype  \n",
      "---  ------    --------------  -----  \n",
      " 0   calls     3214 non-null   float64\n",
      " 1   minutes   3214 non-null   float64\n",
      " 2   messages  3214 non-null   float64\n",
      " 3   mb_used   3214 non-null   float64\n",
      " 4   is_ultra  3214 non-null   int64  \n",
      "dtypes: float64(4), int64(1)\n",
      "memory usage: 125.7 KB\n"
     ]
    }
   ],
   "source": [
    "#основная информация о датафрейме\n",
    "data.info()"
   ]
  },
  {
   "cell_type": "code",
   "execution_count": 5,
   "id": "aa751776",
   "metadata": {
    "scrolled": true
   },
   "outputs": [
    {
     "data": {
      "text/html": [
       "<div>\n",
       "<style scoped>\n",
       "    .dataframe tbody tr th:only-of-type {\n",
       "        vertical-align: middle;\n",
       "    }\n",
       "\n",
       "    .dataframe tbody tr th {\n",
       "        vertical-align: top;\n",
       "    }\n",
       "\n",
       "    .dataframe thead th {\n",
       "        text-align: right;\n",
       "    }\n",
       "</style>\n",
       "<table border=\"1\" class=\"dataframe\">\n",
       "  <thead>\n",
       "    <tr style=\"text-align: right;\">\n",
       "      <th></th>\n",
       "      <th>count</th>\n",
       "      <th>mean</th>\n",
       "      <th>std</th>\n",
       "      <th>min</th>\n",
       "      <th>25%</th>\n",
       "      <th>50%</th>\n",
       "      <th>75%</th>\n",
       "      <th>max</th>\n",
       "    </tr>\n",
       "  </thead>\n",
       "  <tbody>\n",
       "    <tr>\n",
       "      <th>calls</th>\n",
       "      <td>3214.0</td>\n",
       "      <td>63.038892</td>\n",
       "      <td>33.236368</td>\n",
       "      <td>0.0</td>\n",
       "      <td>40.0000</td>\n",
       "      <td>62.000</td>\n",
       "      <td>82.0000</td>\n",
       "      <td>244.00</td>\n",
       "    </tr>\n",
       "    <tr>\n",
       "      <th>minutes</th>\n",
       "      <td>3214.0</td>\n",
       "      <td>438.208787</td>\n",
       "      <td>234.569872</td>\n",
       "      <td>0.0</td>\n",
       "      <td>274.5750</td>\n",
       "      <td>430.600</td>\n",
       "      <td>571.9275</td>\n",
       "      <td>1632.06</td>\n",
       "    </tr>\n",
       "    <tr>\n",
       "      <th>messages</th>\n",
       "      <td>3214.0</td>\n",
       "      <td>38.281269</td>\n",
       "      <td>36.148326</td>\n",
       "      <td>0.0</td>\n",
       "      <td>9.0000</td>\n",
       "      <td>30.000</td>\n",
       "      <td>57.0000</td>\n",
       "      <td>224.00</td>\n",
       "    </tr>\n",
       "    <tr>\n",
       "      <th>mb_used</th>\n",
       "      <td>3214.0</td>\n",
       "      <td>17207.673836</td>\n",
       "      <td>7570.968246</td>\n",
       "      <td>0.0</td>\n",
       "      <td>12491.9025</td>\n",
       "      <td>16943.235</td>\n",
       "      <td>21424.7000</td>\n",
       "      <td>49745.73</td>\n",
       "    </tr>\n",
       "    <tr>\n",
       "      <th>is_ultra</th>\n",
       "      <td>3214.0</td>\n",
       "      <td>0.306472</td>\n",
       "      <td>0.461100</td>\n",
       "      <td>0.0</td>\n",
       "      <td>0.0000</td>\n",
       "      <td>0.000</td>\n",
       "      <td>1.0000</td>\n",
       "      <td>1.00</td>\n",
       "    </tr>\n",
       "  </tbody>\n",
       "</table>\n",
       "</div>"
      ],
      "text/plain": [
       "           count          mean          std  min         25%        50%  \\\n",
       "calls     3214.0     63.038892    33.236368  0.0     40.0000     62.000   \n",
       "minutes   3214.0    438.208787   234.569872  0.0    274.5750    430.600   \n",
       "messages  3214.0     38.281269    36.148326  0.0      9.0000     30.000   \n",
       "mb_used   3214.0  17207.673836  7570.968246  0.0  12491.9025  16943.235   \n",
       "is_ultra  3214.0      0.306472     0.461100  0.0      0.0000      0.000   \n",
       "\n",
       "                 75%       max  \n",
       "calls        82.0000    244.00  \n",
       "minutes     571.9275   1632.06  \n",
       "messages     57.0000    224.00  \n",
       "mb_used   21424.7000  49745.73  \n",
       "is_ultra      1.0000      1.00  "
      ]
     },
     "execution_count": 5,
     "metadata": {},
     "output_type": "execute_result"
    }
   ],
   "source": [
    "#основные статистики датафрейма\n",
    "data.describe().T"
   ]
  },
  {
   "cell_type": "markdown",
   "id": "054384e0",
   "metadata": {},
   "source": [
    "**Вывод**\n",
    "<br>Действительно, предобработка данных не требуется. Данные выглядят довольно однородными - без аномалий и резких выбросов."
   ]
  },
  {
   "cell_type": "markdown",
   "id": "89506ada",
   "metadata": {},
   "source": [
    "## Разбейте данные на выборки"
   ]
  },
  {
   "cell_type": "code",
   "execution_count": 6,
   "id": "00b0665d",
   "metadata": {},
   "outputs": [],
   "source": [
    "#определим целевой признак и прочие\n",
    "target = data['is_ultra']\n",
    "features = data.drop('is_ultra', axis=1)"
   ]
  },
  {
   "cell_type": "code",
   "execution_count": 7,
   "id": "05b1d6c9",
   "metadata": {},
   "outputs": [],
   "source": [
    "#разобьем все данные на обучающую, валидационную и тестовую выборки (60/20/20)\n",
    "features_train, features_vnt, target_train, target_vnt = train_test_split(\n",
    "    features, target, test_size=0.40, random_state=RANDOM_STATE, stratify=target)\n",
    "features_valid, features_test, target_valid, target_test = train_test_split(\n",
    "    features_vnt, target_vnt, test_size=0.5, random_state=RANDOM_STATE, stratify=target_vnt)"
   ]
  },
  {
   "cell_type": "code",
   "execution_count": 8,
   "id": "7ccaa893",
   "metadata": {},
   "outputs": [
    {
     "data": {
      "text/plain": [
       "(1928, 4)"
      ]
     },
     "execution_count": 8,
     "metadata": {},
     "output_type": "execute_result"
    }
   ],
   "source": [
    "#проверяем результат\n",
    "features_train.shape"
   ]
  },
  {
   "cell_type": "code",
   "execution_count": 9,
   "id": "54cdf6cc",
   "metadata": {},
   "outputs": [
    {
     "data": {
      "text/plain": [
       "(643, 4)"
      ]
     },
     "execution_count": 9,
     "metadata": {},
     "output_type": "execute_result"
    }
   ],
   "source": [
    "features_valid.shape"
   ]
  },
  {
   "cell_type": "code",
   "execution_count": 10,
   "id": "46f11cf5",
   "metadata": {
    "scrolled": true
   },
   "outputs": [
    {
     "data": {
      "text/plain": [
       "0.5998755444928439"
      ]
     },
     "execution_count": 10,
     "metadata": {},
     "output_type": "execute_result"
    }
   ],
   "source": [
    "features_train.shape[0]/data.shape[0]"
   ]
  },
  {
   "cell_type": "markdown",
   "id": "45c77b5f",
   "metadata": {},
   "source": [
    "**Вывод**\n",
    "<br>Имеем 3 выборки: обучающую (60% исходных данных), валидационную (20%) и тестовую (20%)."
   ]
  },
  {
   "cell_type": "markdown",
   "id": "2ea4a031",
   "metadata": {},
   "source": [
    "## Исследуйте модели"
   ]
  },
  {
   "cell_type": "markdown",
   "id": "e7548ce1",
   "metadata": {},
   "source": [
    "**Дерево решений**"
   ]
  },
  {
   "cell_type": "markdown",
   "id": "a2c0626e",
   "metadata": {},
   "source": [
    "Рассмотрим точность предсказаний модели дерева решений с различным параметром max_depth:"
   ]
  },
  {
   "cell_type": "code",
   "execution_count": 11,
   "id": "9b3ea54f",
   "metadata": {
    "scrolled": false
   },
   "outputs": [
    {
     "data": {
      "image/png": "[encoded data removed]",
      "text/plain": [
       "<Figure size 640x480 with 1 Axes>"
      ]
     },
     "metadata": {},
     "output_type": "display_data"
    }
   ],
   "source": [
    "dtc_accuracy = []\n",
    "train_accuracy =[]\n",
    "for depth in range(1,41):\n",
    "    dtc_model = DecisionTreeClassifier(random_state=RANDOM_STATE, max_depth=depth)\n",
    "    dtc_model.fit(features_train, target_train)\n",
    "    predictions_valid = dtc_model.predict(features_valid)\n",
    "    dtc_accuracy.append(accuracy_score(target_valid, predictions_valid))\n",
    "    train_accuracy.append(accuracy_score(target_test, dtc_model.predict(features_test)))\n",
    "#строим график по полученным значениям\n",
    "plt.plot([i+1 for i in range(len(dtc_accuracy))], dtc_accuracy);\n",
    "plt.plot([i+1 for i in range(len(dtc_accuracy))], train_accuracy);\n",
    "plt.plot([i+1 for i in range(len(dtc_accuracy))], [0.75 for i in range(len(dtc_accuracy))], '--');\n",
    "plt.suptitle('Decision Tree')\n",
    "plt.legend (('validation data', 'train data', 'min accuracy'))\n",
    "plt.xlabel('max_depth')\n",
    "plt.ylabel('accuracy')\n",
    "plt.grid()"
   ]
  },
  {
   "cell_type": "markdown",
   "id": "19763197",
   "metadata": {},
   "source": [
    "Точность предсказания на валидационой выборке растет нестабильно, иногда приближаясь к пороговому значению (0.75). Только с глубины >= 5 можно говорить о хорошей точности предсказания. При больших значениях параметра max_depth видим переобучение."
   ]
  },
  {
   "cell_type": "markdown",
   "id": "7b31c747",
   "metadata": {},
   "source": [
    "**Случайный лес**"
   ]
  },
  {
   "cell_type": "markdown",
   "id": "64198f58",
   "metadata": {},
   "source": [
    "Рассмотрим точность предсказаний модели случайного леса с различным параметром n_estimators (1-40) и max_depth (1-20):"
   ]
  },
  {
   "cell_type": "code",
   "execution_count": 12,
   "id": "0893af7b",
   "metadata": {},
   "outputs": [
    {
     "name": "stdout",
     "output_type": "stream",
     "text": [
      "CPU times: total: 1min 54s\n",
      "Wall time: 2min 22s\n"
     ]
    }
   ],
   "source": [
    "%%time\n",
    "rfc_accuracy = pd.DataFrame(columns=[i for i in range(1,21)], index=[i for i in range(1,41)])\n",
    "for depth in range(1, 21):\n",
    "    for est in range(1, 41):\n",
    "        rfc_model = RandomForestClassifier(random_state=RANDOM_STATE, n_estimators=est, max_depth=depth)\n",
    "        rfc_model.fit(features_train, target_train)\n",
    "        rfc_accuracy.loc[est, depth] = rfc_model.score(features_valid, target_valid)"
   ]
  },
  {
   "cell_type": "code",
   "execution_count": 13,
   "id": "e36c248a",
   "metadata": {},
   "outputs": [],
   "source": [
    "rfc_accuracy = rfc_accuracy.astype(float)"
   ]
  },
  {
   "cell_type": "code",
   "execution_count": 14,
   "id": "5786e7d6",
   "metadata": {
    "scrolled": true
   },
   "outputs": [
    {
     "data": {
      "image/png": "[encoded data removed]",
      "text/plain": [
       "<Figure size 640x480 with 2 Axes>"
      ]
     },
     "metadata": {},
     "output_type": "display_data"
    }
   ],
   "source": [
    "sns.heatmap(rfc_accuracy);"
   ]
  },
  {
   "cell_type": "markdown",
   "id": "8cf4d0cf",
   "metadata": {},
   "source": [
    "Оптимальные значения получаем с параметрами n_estimators=39 и max_depth=9"
   ]
  },
  {
   "cell_type": "markdown",
   "id": "cfe098ef",
   "metadata": {},
   "source": [
    "**Логистическая регрессия**"
   ]
  },
  {
   "cell_type": "markdown",
   "id": "3dd3288d",
   "metadata": {},
   "source": [
    "Рассмотрим точность предсказаний модели логистической регрессии с различными гиперпараметрами:"
   ]
  },
  {
   "cell_type": "code",
   "execution_count": 15,
   "id": "c3ad65b1",
   "metadata": {
    "scrolled": true
   },
   "outputs": [
    {
     "name": "stderr",
     "output_type": "stream",
     "text": [
      "C:\\Users\\user\\.conda\\envs\\ds_practicum_env\\lib\\site-packages\\scipy\\optimize\\_linesearch.py:456: LineSearchWarning: The line search algorithm did not converge\n",
      "  warn('The line search algorithm did not converge', LineSearchWarning)\n",
      "C:\\Users\\user\\.conda\\envs\\ds_practicum_env\\lib\\site-packages\\scipy\\optimize\\_linesearch.py:305: LineSearchWarning: The line search algorithm did not converge\n",
      "  warn('The line search algorithm did not converge', LineSearchWarning)\n",
      "C:\\Users\\user\\.conda\\envs\\ds_practicum_env\\lib\\site-packages\\scipy\\optimize\\_linesearch.py:456: LineSearchWarning: The line search algorithm did not converge\n",
      "  warn('The line search algorithm did not converge', LineSearchWarning)\n",
      "C:\\Users\\user\\.conda\\envs\\ds_practicum_env\\lib\\site-packages\\scipy\\optimize\\_linesearch.py:305: LineSearchWarning: The line search algorithm did not converge\n",
      "  warn('The line search algorithm did not converge', LineSearchWarning)\n"
     ]
    },
    {
     "name": "stdout",
     "output_type": "stream",
     "text": [
      "solver = newton-cg accuracy = 0.739\n",
      "solver = lbfgs accuracy = 0.739\n",
      "solver = liblinear accuracy = 0.719\n",
      "solver = sag accuracy = 0.712\n",
      "solver = saga accuracy = 0.711\n",
      "CPU times: total: 2.94 s\n",
      "Wall time: 3.29 s\n"
     ]
    }
   ],
   "source": [
    "%%time\n",
    "solvers = ['newton-cg', 'lbfgs', 'liblinear', 'sag', 'saga']\n",
    "for i in range(len(solvers)):\n",
    "    lr_model = LogisticRegression(random_state=RANDOM_STATE, solver=solvers[i], max_iter=10000)\n",
    "    lr_model.fit(features_train, target_train)\n",
    "    predictions_valid = lr_model.predict(features_valid)\n",
    "    print('solver =', solvers[i], 'accuracy =', f'{accuracy_score(target_valid, predictions_valid):.3f}')"
   ]
  },
  {
   "cell_type": "markdown",
   "id": "a5461187",
   "metadata": {},
   "source": [
    "Как видно, здесь мы не можем перешагнуть порог точности в 0.75 ни в одном из вариантов."
   ]
  },
  {
   "cell_type": "markdown",
   "id": "5237540e",
   "metadata": {},
   "source": [
    "**Вывод**\n",
    "<br>Наилучшие значения точности на валидационной выборке достигаются с моделью случайного леса  параметрами n_estimators=39 и max_depth=9"
   ]
  },
  {
   "cell_type": "markdown",
   "id": "687bb839",
   "metadata": {},
   "source": [
    "## Проверьте модель на тестовой выборке"
   ]
  },
  {
   "cell_type": "markdown",
   "id": "28c97f29",
   "metadata": {},
   "source": [
    "Обучаем модель на объединенной обучающей + валидационной выборках. Проверяем выбранную модель на тестовой выборке:"
   ]
  },
  {
   "cell_type": "code",
   "execution_count": 16,
   "id": "2216f0d3",
   "metadata": {},
   "outputs": [
    {
     "name": "stdout",
     "output_type": "stream",
     "text": [
      "accuracy: 0.829\n"
     ]
    }
   ],
   "source": [
    "rfc_model = RandomForestClassifier(random_state=RANDOM_STATE, n_estimators=39, max_depth=9)\n",
    "rfc_model.fit(pd.concat([features_train, features_valid], ignore_index=True, axis=0, sort=False),\n",
    "              pd.concat([target_train, target_valid], ignore_index=True, axis=0, sort=False))\n",
    "print('accuracy:', f\"{rfc_model.score(features_test, target_test):.3f}\")"
   ]
  },
  {
   "cell_type": "markdown",
   "id": "066820ba",
   "metadata": {},
   "source": [
    "**Вывод**\n",
    "<br>На тестовой выборке получено значение точности выше 0.75. С помощью RandomForestClassifier мы добились точности 0.829 с гиперпараметрами n_estimators=39 и max_depth=9."
   ]
  },
  {
   "cell_type": "markdown",
   "id": "ab50c79f",
   "metadata": {},
   "source": [
    "## (бонус) Проверьте модели на адекватность"
   ]
  },
  {
   "cell_type": "code",
   "execution_count": 17,
   "id": "cdf8cdfe",
   "metadata": {},
   "outputs": [],
   "source": [
    "from sklearn.dummy import DummyClassifier"
   ]
  },
  {
   "cell_type": "code",
   "execution_count": 18,
   "id": "5e802b2e",
   "metadata": {},
   "outputs": [
    {
     "name": "stdout",
     "output_type": "stream",
     "text": [
      "accuracy: 0.694\n"
     ]
    }
   ],
   "source": [
    "dummy_model = DummyClassifier(strategy='most_frequent', random_state=RANDOM_STATE)\n",
    "dummy_model.fit(pd.concat([features_train, features_valid], ignore_index=True, axis=0, sort=False),\n",
    "                pd.concat([target_train, target_valid], ignore_index=True, axis=0, sort=False))\n",
    "print('accuracy:', f\"{dummy_model.score(features_test, target_test):.3f}\")"
   ]
  },
  {
   "cell_type": "markdown",
   "id": "67187549",
   "metadata": {},
   "source": [
    "**Вывод**\n",
    "<br>0.694 - Базовая \"точность\" константной модели. Все используемые модели по своей точности ее превосходят, включая оптимальную."
   ]
  },
  {
   "cell_type": "code",
   "execution_count": null,
   "id": "f1a6aba7",
   "metadata": {},
   "outputs": [],
   "source": []
  }
 ],
 "metadata": {
  "kernelspec": {
   "display_name": "Python 3 (ipykernel)",
   "language": "python",
   "name": "python3"
  },
  "language_info": {
   "codemirror_mode": {
    "name": "ipython",
    "version": 3
   },
   "file_extension": ".py",
   "mimetype": "text/x-python",
   "name": "python",
   "nbconvert_exporter": "python",
   "pygments_lexer": "ipython3",
   "version": "3.9.16"
  }
 },
 "nbformat": 4,
 "nbformat_minor": 5
}
